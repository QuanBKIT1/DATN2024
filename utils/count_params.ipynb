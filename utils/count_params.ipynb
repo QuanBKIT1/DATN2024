{
 "cells": [
  {
   "cell_type": "code",
   "execution_count": null,
   "metadata": {},
   "outputs": [],
   "source": [
    "import argparse\n",
    "import yaml\n",
    "import torch\n",
    "from torchsummary import summary\n",
    "from thop import profile, clever_format\n",
    "\n",
    "def import_class(name):\n",
    "    components = name.split('.')\n",
    "    mod = __import__(components[0])  # import return model\n",
    "    for comp in components[1:]:\n",
    "        mod = getattr(mod, comp)\n",
    "    return mod"
   ]
  },
  {
   "cell_type": "code",
   "execution_count": null,
   "metadata": {},
   "outputs": [],
   "source": [
    "%cd .."
   ]
  },
  {
   "cell_type": "markdown",
   "metadata": {},
   "source": [
    "## Count Params and MACs "
   ]
  },
  {
   "cell_type": "code",
   "execution_count": null,
   "metadata": {},
   "outputs": [],
   "source": [
    "# Load config\n",
    "with open(r'D:\\DATN\\project\\Pose-based-WLASL\\configs\\ctr-gcn\\config.yaml') as f: \n",
    "    arg = yaml.load(f, Loader=yaml.FullLoader)\n",
    "arg = argparse.Namespace(**arg)\n",
    "\n",
    "num_keypoint = 27\n",
    "T_frame = 150\n",
    "arg.model_args['num_class'] = 2000\n",
    "arg.model_args['graph_args']['layout'] = f'keypoint-{num_keypoint}'\n",
    "vars(arg)"
   ]
  },
  {
   "cell_type": "code",
   "execution_count": null,
   "metadata": {},
   "outputs": [],
   "source": [
    "# Load model\n",
    "Model = import_class(arg.model)\n",
    "model = Model(**arg.model_args)\n",
    "# Input size: (N, C, T, V, M)\n",
    "# Batch size N = 64\n",
    "# Channel C = 3 (stand for (X,Y,C) skeleton point data) \n",
    "# T = 150 (number of frames)\n",
    "# V = 27 (number of keypoints)\n",
    "# M = 1 (number of persons)\n",
    "summary(model, input_size=(3, T_frame, num_keypoint, 1))"
   ]
  },
  {
   "cell_type": "code",
   "execution_count": null,
   "metadata": {},
   "outputs": [],
   "source": [
    "input = torch.randn(1, 3, T_frame, num_keypoint, 1)\n",
    "macs, params = profile(model, inputs=(input, ))\n",
    "macs, params = clever_format([macs, params], \"%.3f\")\n",
    "print(\"MACs: {}, Params: {}\".format(macs, params))"
   ]
  }
 ],
 "metadata": {
  "kernelspec": {
   "display_name": "deeplearning",
   "language": "python",
   "name": "python3"
  },
  "language_info": {
   "codemirror_mode": {
    "name": "ipython",
    "version": 3
   },
   "file_extension": ".py",
   "mimetype": "text/x-python",
   "name": "python",
   "nbconvert_exporter": "python",
   "pygments_lexer": "ipython3",
   "version": "3.11.2"
  }
 },
 "nbformat": 4,
 "nbformat_minor": 2
}
